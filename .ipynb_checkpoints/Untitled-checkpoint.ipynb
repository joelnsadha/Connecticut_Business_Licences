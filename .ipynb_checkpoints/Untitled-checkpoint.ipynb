{
 "cells": [
  {
   "cell_type": "code",
   "execution_count": 1,
   "id": "ae296104",
   "metadata": {},
   "outputs": [],
   "source": [
    "import pandas as pd\n",
    "import psycopg2\n",
    "import requests\n",
    "import json\n",
    "import numpy as np"
   ]
  },
  {
   "cell_type": "code",
   "execution_count": 2,
   "id": "904911f5",
   "metadata": {},
   "outputs": [],
   "source": [
    "# Insert query\n",
    "q_ct_business_insert = \"\"\"\n",
    "INSERT INTO ct_business (\n",
    "    credentialid,\n",
    "    name,\n",
    "    type,\n",
    "    fullcredentialcode,\n",
    "    credentialtype,\n",
    "    credentialnumber,\n",
    "    credential,\n",
    "    status,\n",
    "    active,\n",
    "    issuedate,\n",
    "    effectivedate,\n",
    "    expirationdate,\n",
    "    address,\n",
    "    city,\n",
    "    state,\n",
    "    zip,\n",
    "    recordrefreshedon,\n",
    "    statusreason,\n",
    "    businessname,\n",
    "    credentialsubcategory,\n",
    "    dba\n",
    ")\n",
    "\n",
    "VALUES (%s, %s, %s, %s, %s, %s, %s, %s, %s, %s, %s, %s, %s, %s, %s, %s, %s, %s, %s, %s, %s)\n",
    "ON CONFLICT (credentialid) DO NOTHING;\n",
    "\"\"\""
   ]
  },
  {
   "cell_type": "code",
   "execution_count": 3,
   "id": "8ebb357f",
   "metadata": {},
   "outputs": [],
   "source": [
    "# Get data\n",
    "response = requests.get(\"https://data.ct.gov/resource/ngch-56tr.json\")"
   ]
  },
  {
   "cell_type": "code",
   "execution_count": 4,
   "id": "dd971290",
   "metadata": {},
   "outputs": [],
   "source": [
    "response_json = response.json()"
   ]
  },
  {
   "cell_type": "code",
   "execution_count": 5,
   "id": "b759d4b2",
   "metadata": {},
   "outputs": [],
   "source": [
    "# Save data in .txt file in order to not hit the endpoint repeatedly\n",
    "with open(\"data.txt\", 'w') as file:\n",
    "    json.dump(response_json, file)"
   ]
  },
  {
   "cell_type": "code",
   "execution_count": 6,
   "id": "f27a9e97",
   "metadata": {},
   "outputs": [],
   "source": [
    "df = pd.read_json('data.txt')"
   ]
  },
  {
   "cell_type": "code",
   "execution_count": 7,
   "id": "cd3e2f64",
   "metadata": {},
   "outputs": [
    {
     "name": "stdout",
     "output_type": "stream",
     "text": [
      "<class 'pandas.core.frame.DataFrame'>\n",
      "RangeIndex: 1000 entries, 0 to 999\n",
      "Data columns (total 21 columns):\n",
      " #   Column                 Non-Null Count  Dtype  \n",
      "---  ------                 --------------  -----  \n",
      " 0   credentialid           1000 non-null   int64  \n",
      " 1   name                   1000 non-null   object \n",
      " 2   type                   1000 non-null   object \n",
      " 3   fullcredentialcode     1000 non-null   object \n",
      " 4   credentialtype         1000 non-null   object \n",
      " 5   credentialnumber       996 non-null    object \n",
      " 6   credential             1000 non-null   object \n",
      " 7   status                 1000 non-null   object \n",
      " 8   active                 1000 non-null   int64  \n",
      " 9   issuedate              988 non-null    object \n",
      " 10  effectivedate          986 non-null    object \n",
      " 11  expirationdate         983 non-null    object \n",
      " 12  address                1000 non-null   object \n",
      " 13  city                   1000 non-null   object \n",
      " 14  state                  996 non-null    object \n",
      " 15  zip                    995 non-null    float64\n",
      " 16  recordrefreshedon      1000 non-null   object \n",
      " 17  statusreason           475 non-null    object \n",
      " 18  businessname           99 non-null     object \n",
      " 19  credentialsubcategory  86 non-null     object \n",
      " 20  dba                    29 non-null     object \n",
      "dtypes: float64(1), int64(2), object(18)\n",
      "memory usage: 164.2+ KB\n"
     ]
    }
   ],
   "source": [
    "df.info()"
   ]
  },
  {
   "cell_type": "code",
   "execution_count": 8,
   "id": "0d4cdad6",
   "metadata": {},
   "outputs": [
    {
     "data": {
      "text/html": [
       "<div>\n",
       "<style scoped>\n",
       "    .dataframe tbody tr th:only-of-type {\n",
       "        vertical-align: middle;\n",
       "    }\n",
       "\n",
       "    .dataframe tbody tr th {\n",
       "        vertical-align: top;\n",
       "    }\n",
       "\n",
       "    .dataframe thead th {\n",
       "        text-align: right;\n",
       "    }\n",
       "</style>\n",
       "<table border=\"1\" class=\"dataframe\">\n",
       "  <thead>\n",
       "    <tr style=\"text-align: right;\">\n",
       "      <th></th>\n",
       "      <th>credentialid</th>\n",
       "      <th>name</th>\n",
       "      <th>type</th>\n",
       "      <th>fullcredentialcode</th>\n",
       "      <th>credentialtype</th>\n",
       "      <th>credentialnumber</th>\n",
       "      <th>credential</th>\n",
       "      <th>status</th>\n",
       "      <th>active</th>\n",
       "      <th>issuedate</th>\n",
       "      <th>...</th>\n",
       "      <th>expirationdate</th>\n",
       "      <th>address</th>\n",
       "      <th>city</th>\n",
       "      <th>state</th>\n",
       "      <th>zip</th>\n",
       "      <th>recordrefreshedon</th>\n",
       "      <th>statusreason</th>\n",
       "      <th>businessname</th>\n",
       "      <th>credentialsubcategory</th>\n",
       "      <th>dba</th>\n",
       "    </tr>\n",
       "  </thead>\n",
       "  <tbody>\n",
       "    <tr>\n",
       "      <th>0</th>\n",
       "      <td>1000664</td>\n",
       "      <td>FADEL BALAWI</td>\n",
       "      <td>INDIVIDUAL</td>\n",
       "      <td>CSP.0050262</td>\n",
       "      <td>CSP</td>\n",
       "      <td>50262</td>\n",
       "      <td>CONTROLLED SUBSTANCE REGISTRATION FOR PRACTITI...</td>\n",
       "      <td>INACTIVE</td>\n",
       "      <td>0</td>\n",
       "      <td>2011-06-07T00:00:00.000</td>\n",
       "      <td>...</td>\n",
       "      <td>2023-02-28T00:00:00.000</td>\n",
       "      <td>111 AYRSHIRE LN</td>\n",
       "      <td>AVON</td>\n",
       "      <td>CT</td>\n",
       "      <td>60012101.0</td>\n",
       "      <td>2023-08-15T00:00:00.000</td>\n",
       "      <td>NaN</td>\n",
       "      <td>NaN</td>\n",
       "      <td>NaN</td>\n",
       "      <td>NaN</td>\n",
       "    </tr>\n",
       "    <tr>\n",
       "      <th>1</th>\n",
       "      <td>2027327</td>\n",
       "      <td>WAYNE CARTER</td>\n",
       "      <td>INDIVIDUAL</td>\n",
       "      <td>CASE.0993725</td>\n",
       "      <td>CASE</td>\n",
       "      <td>993725</td>\n",
       "      <td>CASINO CLASS I EMPLOYEE</td>\n",
       "      <td>ACTIVE</td>\n",
       "      <td>1</td>\n",
       "      <td>1995-04-26T00:00:00.000</td>\n",
       "      <td>...</td>\n",
       "      <td>2023-10-31T00:00:00.000</td>\n",
       "      <td>62 Canterbury Rd</td>\n",
       "      <td>Mystic</td>\n",
       "      <td>CT</td>\n",
       "      <td>6355.0</td>\n",
       "      <td>2022-11-03T00:00:00.000</td>\n",
       "      <td>NaN</td>\n",
       "      <td>NaN</td>\n",
       "      <td>NaN</td>\n",
       "      <td>NaN</td>\n",
       "    </tr>\n",
       "    <tr>\n",
       "      <th>2</th>\n",
       "      <td>2027328</td>\n",
       "      <td>SODARA CHAN</td>\n",
       "      <td>INDIVIDUAL</td>\n",
       "      <td>CASE.0993303</td>\n",
       "      <td>CASE</td>\n",
       "      <td>993303</td>\n",
       "      <td>CASINO CLASS I EMPLOYEE</td>\n",
       "      <td>ACTIVE</td>\n",
       "      <td>1</td>\n",
       "      <td>1993-10-19T00:00:00.000</td>\n",
       "      <td>...</td>\n",
       "      <td>2023-10-31T00:00:00.000</td>\n",
       "      <td>58 Kenyon Rd.</td>\n",
       "      <td>Waterford</td>\n",
       "      <td>CT</td>\n",
       "      <td>6385.0</td>\n",
       "      <td>2022-11-03T00:00:00.000</td>\n",
       "      <td>NaN</td>\n",
       "      <td>NaN</td>\n",
       "      <td>NaN</td>\n",
       "      <td>NaN</td>\n",
       "    </tr>\n",
       "    <tr>\n",
       "      <th>3</th>\n",
       "      <td>1000163</td>\n",
       "      <td>JAYNE SCHORN-GOTTSCHALK</td>\n",
       "      <td>INDIVIDUAL</td>\n",
       "      <td>27.001538</td>\n",
       "      <td>27</td>\n",
       "      <td>1538</td>\n",
       "      <td>Marital and Family Therapist</td>\n",
       "      <td>ACTIVE</td>\n",
       "      <td>1</td>\n",
       "      <td>2012-08-01T00:00:00.000</td>\n",
       "      <td>...</td>\n",
       "      <td>2024-08-31T00:00:00.000</td>\n",
       "      <td>500 Post Road East</td>\n",
       "      <td>Westport</td>\n",
       "      <td>CT</td>\n",
       "      <td>6880.0</td>\n",
       "      <td>2023-07-06T00:00:00.000</td>\n",
       "      <td>CURRENT</td>\n",
       "      <td>NaN</td>\n",
       "      <td>NaN</td>\n",
       "      <td>NaN</td>\n",
       "    </tr>\n",
       "    <tr>\n",
       "      <th>4</th>\n",
       "      <td>1000830</td>\n",
       "      <td>SUZANNA M SMALDONE</td>\n",
       "      <td>INDIVIDUAL</td>\n",
       "      <td>10.102261</td>\n",
       "      <td>10</td>\n",
       "      <td>102261</td>\n",
       "      <td>Registered Nurse</td>\n",
       "      <td>ACTIVE</td>\n",
       "      <td>1</td>\n",
       "      <td>2011-09-15T00:00:00.000</td>\n",
       "      <td>...</td>\n",
       "      <td>2024-09-30T00:00:00.000</td>\n",
       "      <td>80 Peacock Drive</td>\n",
       "      <td>Stratford</td>\n",
       "      <td>CT</td>\n",
       "      <td>6614.0</td>\n",
       "      <td>2023-09-18T00:00:00.000</td>\n",
       "      <td>CURRENT</td>\n",
       "      <td>NaN</td>\n",
       "      <td>NaN</td>\n",
       "      <td>NaN</td>\n",
       "    </tr>\n",
       "  </tbody>\n",
       "</table>\n",
       "<p>5 rows × 21 columns</p>\n",
       "</div>"
      ],
      "text/plain": [
       "   credentialid                     name        type fullcredentialcode  \\\n",
       "0       1000664             FADEL BALAWI  INDIVIDUAL        CSP.0050262   \n",
       "1       2027327             WAYNE CARTER  INDIVIDUAL       CASE.0993725   \n",
       "2       2027328              SODARA CHAN  INDIVIDUAL       CASE.0993303   \n",
       "3       1000163  JAYNE SCHORN-GOTTSCHALK  INDIVIDUAL          27.001538   \n",
       "4       1000830       SUZANNA M SMALDONE  INDIVIDUAL          10.102261   \n",
       "\n",
       "  credentialtype credentialnumber  \\\n",
       "0            CSP            50262   \n",
       "1           CASE           993725   \n",
       "2           CASE           993303   \n",
       "3             27             1538   \n",
       "4             10           102261   \n",
       "\n",
       "                                          credential    status  active  \\\n",
       "0  CONTROLLED SUBSTANCE REGISTRATION FOR PRACTITI...  INACTIVE       0   \n",
       "1                            CASINO CLASS I EMPLOYEE    ACTIVE       1   \n",
       "2                            CASINO CLASS I EMPLOYEE    ACTIVE       1   \n",
       "3                       Marital and Family Therapist    ACTIVE       1   \n",
       "4                                   Registered Nurse    ACTIVE       1   \n",
       "\n",
       "                 issuedate  ...           expirationdate             address  \\\n",
       "0  2011-06-07T00:00:00.000  ...  2023-02-28T00:00:00.000     111 AYRSHIRE LN   \n",
       "1  1995-04-26T00:00:00.000  ...  2023-10-31T00:00:00.000    62 Canterbury Rd   \n",
       "2  1993-10-19T00:00:00.000  ...  2023-10-31T00:00:00.000       58 Kenyon Rd.   \n",
       "3  2012-08-01T00:00:00.000  ...  2024-08-31T00:00:00.000  500 Post Road East   \n",
       "4  2011-09-15T00:00:00.000  ...  2024-09-30T00:00:00.000    80 Peacock Drive   \n",
       "\n",
       "        city state         zip        recordrefreshedon statusreason  \\\n",
       "0       AVON    CT  60012101.0  2023-08-15T00:00:00.000          NaN   \n",
       "1     Mystic    CT      6355.0  2022-11-03T00:00:00.000          NaN   \n",
       "2  Waterford    CT      6385.0  2022-11-03T00:00:00.000          NaN   \n",
       "3   Westport    CT      6880.0  2023-07-06T00:00:00.000      CURRENT   \n",
       "4  Stratford    CT      6614.0  2023-09-18T00:00:00.000      CURRENT   \n",
       "\n",
       "  businessname credentialsubcategory  dba  \n",
       "0          NaN                   NaN  NaN  \n",
       "1          NaN                   NaN  NaN  \n",
       "2          NaN                   NaN  NaN  \n",
       "3          NaN                   NaN  NaN  \n",
       "4          NaN                   NaN  NaN  \n",
       "\n",
       "[5 rows x 21 columns]"
      ]
     },
     "execution_count": 8,
     "metadata": {},
     "output_type": "execute_result"
    }
   ],
   "source": [
    "df.head()"
   ]
  },
  {
   "cell_type": "code",
   "execution_count": 9,
   "id": "e60296e0",
   "metadata": {},
   "outputs": [],
   "source": [
    "single_business = list(df.loc[0,].values)"
   ]
  },
  {
   "cell_type": "code",
   "execution_count": 10,
   "id": "513d87ee",
   "metadata": {},
   "outputs": [
    {
     "data": {
      "text/plain": [
       "[1000664,\n",
       " 'FADEL BALAWI',\n",
       " 'INDIVIDUAL',\n",
       " 'CSP.0050262',\n",
       " 'CSP',\n",
       " '50262',\n",
       " 'CONTROLLED SUBSTANCE REGISTRATION FOR PRACTITIONER',\n",
       " 'INACTIVE',\n",
       " 0,\n",
       " '2011-06-07T00:00:00.000',\n",
       " '2021-03-01T00:00:00.000',\n",
       " '2023-02-28T00:00:00.000',\n",
       " '111 AYRSHIRE LN',\n",
       " 'AVON',\n",
       " 'CT',\n",
       " 60012101.0,\n",
       " '2023-08-15T00:00:00.000',\n",
       " nan,\n",
       " nan,\n",
       " nan,\n",
       " nan]"
      ]
     },
     "execution_count": 10,
     "metadata": {},
     "output_type": "execute_result"
    }
   ],
   "source": [
    "# Print out the single business\n",
    "single_business"
   ]
  },
  {
   "cell_type": "code",
   "execution_count": 11,
   "id": "0cc05fed",
   "metadata": {},
   "outputs": [],
   "source": [
    "# Convert numpy integers to Postgres compatible integers\n",
    "single_business_converted_int = [int(value) if isinstance(value, np.int64) else value for value in single_business]"
   ]
  },
  {
   "cell_type": "code",
   "execution_count": 12,
   "id": "175e1742",
   "metadata": {},
   "outputs": [
    {
     "data": {
      "text/plain": [
       "[(1000664, int),\n",
       " ('FADEL BALAWI', str),\n",
       " ('INDIVIDUAL', str),\n",
       " ('CSP.0050262', str),\n",
       " ('CSP', str),\n",
       " ('50262', str),\n",
       " ('CONTROLLED SUBSTANCE REGISTRATION FOR PRACTITIONER', str),\n",
       " ('INACTIVE', str),\n",
       " (0, int),\n",
       " ('2011-06-07T00:00:00.000', str),\n",
       " ('2021-03-01T00:00:00.000', str),\n",
       " ('2023-02-28T00:00:00.000', str),\n",
       " ('111 AYRSHIRE LN', str),\n",
       " ('AVON', str),\n",
       " ('CT', str),\n",
       " (60012101.0, numpy.float64),\n",
       " ('2023-08-15T00:00:00.000', str),\n",
       " (nan, float),\n",
       " (nan, float),\n",
       " (nan, float),\n",
       " (nan, float)]"
      ]
     },
     "execution_count": 12,
     "metadata": {},
     "output_type": "execute_result"
    }
   ],
   "source": [
    "# Check data types by printing a tuple of each item in the list\n",
    "[(item, type(item)) for item in single_business_converted_int]"
   ]
  },
  {
   "cell_type": "markdown",
   "id": "436ffec1",
   "metadata": {},
   "source": [
    "## Insert one value into the database"
   ]
  },
  {
   "cell_type": "code",
   "execution_count": 13,
   "id": "8d244a1c",
   "metadata": {},
   "outputs": [],
   "source": [
    "# Connect to database\n",
    "conn = psycopg2.connect(\"host=127.0.0.1 dbname=ct_business_db user=postgres password=Summer2024@\")\n",
    "conn.set_session(autocommit=True)\n",
    "\n",
    "# Create cursor\n",
    "cur = conn.cursor()\n",
    "cur.execute(q_ct_business_insert, single_business_converted_int)"
   ]
  },
  {
   "cell_type": "code",
   "execution_count": 15,
   "id": "89e5cc20",
   "metadata": {},
   "outputs": [
    {
     "name": "stdout",
     "output_type": "stream",
     "text": [
      "(1000664, 'FADEL BALAWI', 'INDIVIDUAL', 'CSP.0050262', 'CSP', '50262', 'CONTROLLED SUBSTANCE REGISTRATION FOR PRACTITIONER', 'INACTIVE', 0, '2011-06-07T00:00:00.000', '2021-03-01T00:00:00.000', '2023-02-28T00:00:00.000', '111 AYRSHIRE LN', 'AVON', 'CT', '60012101.0', '2023-08-15T00:00:00.000', 'NaN', 'NaN', 'NaN', 'NaN')\n"
     ]
    }
   ],
   "source": [
    "cur.execute(\"\"\"SELECT * FROM ct_business\"\"\")\n",
    "rows = cur.fetchall()\n",
    "for row in rows:\n",
    "    print(row)"
   ]
  },
  {
   "cell_type": "code",
   "execution_count": 16,
   "id": "e91bbe8f",
   "metadata": {},
   "outputs": [],
   "source": [
    "conn.close()"
   ]
  },
  {
   "cell_type": "code",
   "execution_count": null,
   "id": "dd6c89a3",
   "metadata": {},
   "outputs": [],
   "source": []
  }
 ],
 "metadata": {
  "kernelspec": {
   "display_name": "Python 3 (ipykernel)",
   "language": "python",
   "name": "python3"
  },
  "language_info": {
   "codemirror_mode": {
    "name": "ipython",
    "version": 3
   },
   "file_extension": ".py",
   "mimetype": "text/x-python",
   "name": "python",
   "nbconvert_exporter": "python",
   "pygments_lexer": "ipython3",
   "version": "3.9.17"
  }
 },
 "nbformat": 4,
 "nbformat_minor": 5
}
