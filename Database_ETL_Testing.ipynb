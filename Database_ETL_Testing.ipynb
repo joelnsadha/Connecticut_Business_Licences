{
 "cells": [
  {
   "cell_type": "code",
   "execution_count": 2,
   "id": "ae296104",
   "metadata": {},
   "outputs": [],
   "source": [
    "import pandas as pd\n",
    "import psycopg2\n",
    "import requests\n",
    "import json\n",
    "import numpy as np"
   ]
  },
  {
   "cell_type": "code",
   "execution_count": 3,
   "id": "904911f5",
   "metadata": {},
   "outputs": [],
   "source": [
    "# Insert query\n",
    "q_ct_business_insert = \"\"\"\n",
    "INSERT INTO ct_business (\n",
    "    credentialid,\n",
    "    name,\n",
    "    type,\n",
    "    fullcredentialcode,\n",
    "    credentialtype,\n",
    "    credentialnumber,\n",
    "    credential,\n",
    "    status,\n",
    "    active,\n",
    "    issuedate,\n",
    "    effectivedate,\n",
    "    expirationdate,\n",
    "    address,\n",
    "    city,\n",
    "    state,\n",
    "    zip,\n",
    "    recordrefreshedon,\n",
    "    statusreason,\n",
    "    businessname,\n",
    "    credentialsubcategory,\n",
    "    dba\n",
    ")\n",
    "\n",
    "VALUES (%s, %s, %s, %s, %s, %s, %s, %s, %s, %s, %s, %s, %s, %s, %s, %s, %s, %s, %s, %s, %s)\n",
    "ON CONFLICT (credentialid) DO NOTHING;\n",
    "\"\"\""
   ]
  },
  {
   "cell_type": "code",
   "execution_count": 4,
   "id": "8ebb357f",
   "metadata": {},
   "outputs": [],
   "source": [
    "# Get data\n",
    "response = requests.get(\"https://data.ct.gov/resource/ngch-56tr.json\")"
   ]
  },
  {
   "cell_type": "code",
   "execution_count": 12,
   "id": "dd971290",
   "metadata": {},
   "outputs": [],
   "source": [
    "response_json = response.json()"
   ]
  },
  {
   "cell_type": "code",
   "execution_count": 13,
   "id": "b759d4b2",
   "metadata": {},
   "outputs": [],
   "source": [
    "# Save data in .txt file in order to not hit the endpoint repeatedly\n",
    "with open(\"data.txt\", 'w') as file:\n",
    "    json.dump(response_json, file)"
   ]
  },
  {
   "cell_type": "code",
   "execution_count": 14,
   "id": "f27a9e97",
   "metadata": {},
   "outputs": [],
   "source": [
    "df = pd.read_json('data.txt')"
   ]
  },
  {
   "cell_type": "code",
   "execution_count": 15,
   "id": "cd3e2f64",
   "metadata": {},
   "outputs": [
    {
     "name": "stdout",
     "output_type": "stream",
     "text": [
      "<class 'pandas.core.frame.DataFrame'>\n",
      "RangeIndex: 1000 entries, 0 to 999\n",
      "Data columns (total 21 columns):\n",
      " #   Column                 Non-Null Count  Dtype  \n",
      "---  ------                 --------------  -----  \n",
      " 0   credentialid           1000 non-null   int64  \n",
      " 1   name                   1000 non-null   object \n",
      " 2   type                   1000 non-null   object \n",
      " 3   fullcredentialcode     1000 non-null   object \n",
      " 4   credentialtype         1000 non-null   object \n",
      " 5   credentialnumber       996 non-null    object \n",
      " 6   credential             1000 non-null   object \n",
      " 7   status                 1000 non-null   object \n",
      " 8   active                 1000 non-null   int64  \n",
      " 9   issuedate              988 non-null    object \n",
      " 10  effectivedate          986 non-null    object \n",
      " 11  expirationdate         983 non-null    object \n",
      " 12  address                1000 non-null   object \n",
      " 13  city                   1000 non-null   object \n",
      " 14  state                  996 non-null    object \n",
      " 15  zip                    995 non-null    float64\n",
      " 16  recordrefreshedon      1000 non-null   object \n",
      " 17  statusreason           475 non-null    object \n",
      " 18  businessname           99 non-null     object \n",
      " 19  credentialsubcategory  86 non-null     object \n",
      " 20  dba                    29 non-null     object \n",
      "dtypes: float64(1), int64(2), object(18)\n",
      "memory usage: 164.2+ KB\n"
     ]
    }
   ],
   "source": [
    "df.info()"
   ]
  },
  {
   "cell_type": "code",
   "execution_count": null,
   "id": "0d4cdad6",
   "metadata": {},
   "outputs": [],
   "source": [
    "df.head()"
   ]
  },
  {
   "cell_type": "code",
   "execution_count": null,
   "id": "e60296e0",
   "metadata": {},
   "outputs": [],
   "source": [
    "single_business = list(df.loc[0,].values)"
   ]
  },
  {
   "cell_type": "code",
   "execution_count": null,
   "id": "513d87ee",
   "metadata": {},
   "outputs": [],
   "source": [
    "# Print out the single business\n",
    "single_business"
   ]
  },
  {
   "cell_type": "code",
   "execution_count": null,
   "id": "0cc05fed",
   "metadata": {},
   "outputs": [],
   "source": [
    "# Convert numpy integers to Postgres compatible integers\n",
    "single_business_converted_int = [int(value) if isinstance(value, np.int64) else value for value in single_business]"
   ]
  },
  {
   "cell_type": "code",
   "execution_count": null,
   "id": "175e1742",
   "metadata": {},
   "outputs": [],
   "source": [
    "# Check data types by printing a tuple of each item in the list\n",
    "[(item, type(item)) for item in single_business_converted_int]"
   ]
  },
  {
   "cell_type": "markdown",
   "id": "436ffec1",
   "metadata": {},
   "source": [
    "## Insert one value into the database"
   ]
  },
  {
   "cell_type": "code",
   "execution_count": null,
   "id": "8d244a1c",
   "metadata": {},
   "outputs": [],
   "source": [
    "# Connect to database\n",
    "conn = psycopg2.connect(\"host=127.0.0.1 dbname=ct_business_db user=postgres password=Summer2024@\")\n",
    "conn.set_session(autocommit=True)\n",
    "\n",
    "# Create cursor\n",
    "cur = conn.cursor()\n",
    "cur.execute(q_ct_business_insert, single_business_converted_int)"
   ]
  },
  {
   "cell_type": "code",
   "execution_count": null,
   "id": "89e5cc20",
   "metadata": {},
   "outputs": [],
   "source": [
    "cur.execute(\"\"\"SELECT * FROM ct_business\"\"\")\n",
    "rows = cur.fetchall()\n",
    "for row in rows:\n",
    "    print(row)"
   ]
  },
  {
   "cell_type": "code",
   "execution_count": null,
   "id": "e91bbe8f",
   "metadata": {},
   "outputs": [],
   "source": [
    "conn.close()"
   ]
  },
  {
   "cell_type": "code",
   "execution_count": null,
   "id": "dd6c89a3",
   "metadata": {},
   "outputs": [],
   "source": []
  }
 ],
 "metadata": {
  "kernelspec": {
   "display_name": "Python 3 (ipykernel)",
   "language": "python",
   "name": "python3"
  },
  "language_info": {
   "codemirror_mode": {
    "name": "ipython",
    "version": 3
   },
   "file_extension": ".py",
   "mimetype": "text/x-python",
   "name": "python",
   "nbconvert_exporter": "python",
   "pygments_lexer": "ipython3",
   "version": "3.9.17"
  }
 },
 "nbformat": 4,
 "nbformat_minor": 5
}
